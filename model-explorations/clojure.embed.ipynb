{
 "cells": [
  {
   "cell_type": "markdown",
   "metadata": {},
   "source": [
    "# Clojure Trial\n",
    "\n",
    "# Introduction"
   ],
   "id": "35e850ca-32c9-4f3b-bee8-bde975db2e96"
  },
  {
   "cell_type": "code",
   "execution_count": 1,
   "metadata": {},
   "outputs": [
    {
     "output_type": "stream",
     "name": "stdout",
     "text": [
      "Hello, Clojure!"
     ]
    },
    {
     "output_type": "display_data",
     "metadata": {},
     "data": {
      "text/plain": [
       "nil"
      ]
     }
    }
   ],
   "source": [
    "(ns clojure-trial\n",
    "  (:require [clojure.string :as str]))\n",
    "\n",
    "(+ 1 1)\n",
    "(print \"Hello, Clojure!\")"
   ],
   "id": "ab07e818"
  }
 ],
 "nbformat": 4,
 "nbformat_minor": 5,
 "metadata": {}
}
