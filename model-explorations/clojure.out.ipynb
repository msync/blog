{
 "cells": [
  {
   "cell_type": "markdown",
   "metadata": {},
   "source": [
    "# Clojure Trial\n",
    "\n",
    "# Introduction"
   ],
   "id": "8d2ce9d3-441f-4b5b-9b9b-d8dd4153eaf6"
  },
  {
   "cell_type": "code",
   "execution_count": 1,
   "metadata": {},
   "outputs": [
    {
     "output_type": "stream",
     "name": "stdout",
     "text": [
      "Hello, Clojure!"
     ]
    },
    {
     "output_type": "display_data",
     "metadata": {},
     "data": {
      "text/plain": [
       "nil"
      ]
     }
    }
   ],
   "source": [
    "(ns clojure-trial\n",
    "  (:require [clojure.string :as str]))\n",
    "\n",
    "(+ 1 1)\n",
    "(print \"Hello, Clojure!\")"
   ],
   "id": "ab07e818"
  }
 ],
 "nbformat": 4,
 "nbformat_minor": 5,
 "metadata": {}
}
