{
 "cells": [
  {
   "cell_type": "markdown",
   "metadata": {},
   "source": [
    "# Model Architecture Explorations\n",
    "\n",
    "# Introduction\n",
    "\n",
    "This is a place for quick explorations of model architectures. No detailed explanations, just code snippets and outputs.\n",
    "\n",
    "# Audio\n",
    "\n",
    "## Whisper"
   ],
   "id": "01567821-e11f-4d49-9739-6e4c0772229b"
  },
  {
   "cell_type": "code",
   "execution_count": 1,
   "metadata": {},
   "outputs": [],
   "source": [
    "import torch\n",
    "from transformers import AutoModelForSpeechSeq2Seq, AutoProcessor, pipeline"
   ],
   "id": "64a4ccbc"
  },
  {
   "cell_type": "code",
   "execution_count": 2,
   "metadata": {},
   "outputs": [],
   "source": [
    "DEVICE = \"mps\"\n",
    "model_id = \"openai/whisper-large-v3-turbo\"\n",
    "model = AutoModelForSpeechSeq2Seq.from_pretrained(model_id).to(DEVICE)\n",
    "encoder = model.get_encoder()\n",
    "decoder = model.get_decoder()"
   ],
   "id": "bf058920"
  },
  {
   "cell_type": "code",
   "execution_count": 3,
   "metadata": {},
   "outputs": [
    {
     "output_type": "display_data",
     "metadata": {},
     "data": {
      "text/plain": [
       "WhisperSdpaAttention(\n",
       "  (k_proj): Linear(in_features=1280, out_features=1280, bias=False)\n",
       "  (v_proj): Linear(in_features=1280, out_features=1280, bias=True)\n",
       "  (q_proj): Linear(in_features=1280, out_features=1280, bias=True)\n",
       "  (out_proj): Linear(in_features=1280, out_features=1280, bias=True)\n",
       ")"
      ]
     }
    }
   ],
   "source": [
    "encoder.layers[0].self_attn"
   ],
   "id": "e93b7258"
  },
  {
   "cell_type": "code",
   "execution_count": 4,
   "metadata": {},
   "outputs": [
    {
     "output_type": "display_data",
     "metadata": {},
     "data": {
      "text/plain": [
       "WhisperDecoderLayer(\n",
       "  (self_attn): WhisperSdpaAttention(\n",
       "    (k_proj): Linear(in_features=1280, out_features=1280, bias=False)\n",
       "    (v_proj): Linear(in_features=1280, out_features=1280, bias=True)\n",
       "    (q_proj): Linear(in_features=1280, out_features=1280, bias=True)\n",
       "    (out_proj): Linear(in_features=1280, out_features=1280, bias=True)\n",
       "  )\n",
       "  (activation_fn): GELUActivation()\n",
       "  (self_attn_layer_norm): LayerNorm((1280,), eps=1e-05, elementwise_affine=True)\n",
       "  (encoder_attn): WhisperSdpaAttention(\n",
       "    (k_proj): Linear(in_features=1280, out_features=1280, bias=False)\n",
       "    (v_proj): Linear(in_features=1280, out_features=1280, bias=True)\n",
       "    (q_proj): Linear(in_features=1280, out_features=1280, bias=True)\n",
       "    (out_proj): Linear(in_features=1280, out_features=1280, bias=True)\n",
       "  )\n",
       "  (encoder_attn_layer_norm): LayerNorm((1280,), eps=1e-05, elementwise_affine=True)\n",
       "  (fc1): Linear(in_features=1280, out_features=5120, bias=True)\n",
       "  (fc2): Linear(in_features=5120, out_features=1280, bias=True)\n",
       "  (final_layer_norm): LayerNorm((1280,), eps=1e-05, elementwise_affine=True)\n",
       ")"
      ]
     }
    }
   ],
   "source": [
    "decoder.layers[1]"
   ],
   "id": "72a34616"
  },
  {
   "cell_type": "markdown",
   "metadata": {},
   "source": [
    "# Test Section"
   ],
   "id": "4f1fcf84"
  },
  {
   "cell_type": "code",
   "execution_count": 5,
   "metadata": {},
   "outputs": [
    {
     "output_type": "display_data",
     "metadata": {},
     "data": {}
    }
   ],
   "source": [
    "import numpy as np\n",
    "import matplotlib.pyplot as plt\n",
    "\n",
    "r = np.arange(0, 2, 0.01)\n",
    "theta = 2 * np.pi * r\n",
    "fig, ax = plt.subplots(\n",
    "  subplot_kw = {'projection': 'polar'} \n",
    ")\n",
    "ax.plot(theta, r)\n",
    "ax.set_rticks([0.5, 1, 1.5, 2])\n",
    "ax.grid(True)\n",
    "plt.show()"
   ],
   "id": "cell-fig-polar"
  }
 ],
 "nbformat": 4,
 "nbformat_minor": 5,
 "metadata": {}
}
